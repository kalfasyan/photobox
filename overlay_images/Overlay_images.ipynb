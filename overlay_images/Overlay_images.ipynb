{
 "cells": [
  {
   "cell_type": "code",
   "execution_count": 25,
   "metadata": {},
   "outputs": [],
   "source": [
    "%reset -f\n",
    "import cv2\n",
    "import numpy as np\n",
    "import pandas as pd\n",
    "import matplotlib.pyplot as plt\n",
    "from nms import non_max_suppression_fast"
   ]
  },
  {
   "cell_type": "code",
   "execution_count": 26,
   "metadata": {},
   "outputs": [],
   "source": [
    "basedir = \"/media/kalfasyan/DATADRIVE1/sticky_plates/2020\"\n",
    "images_path = f\"{basedir}/20200820/plates\"\n",
    "platename = \"Herent_w29_1-90_F10_51 mm_ISO160_1-15 s_IncandescentWB.png\"\n",
    "imgpath = f\"{images_path}/{platename}\""
   ]
  },
  {
   "cell_type": "code",
   "execution_count": 30,
   "metadata": {},
   "outputs": [],
   "source": [
    "import glob\n",
    "\n",
    "imgpaths = glob.glob(f\"{images_path}/**jpg\")"
   ]
  },
  {
   "cell_type": "code",
   "execution_count": 31,
   "metadata": {},
   "outputs": [],
   "source": [
    "def overlay_image_nms(imgpath, plot_orig=True):\n",
    "    image = cv2.imread(imgpath)\n",
    "    image = cv2.cvtColor(image,cv2.COLOR_BGR2RGB)\n",
    "    gray = image[:,:,2] #cv2.cvtColor(image,cv2.COLOR_BGR2GRAY)\n",
    "    filtered = cv2.medianBlur(gray, 5) # 13\n",
    "    # (thresh, blackAndWhiteImage) = cv2.threshold(gray, 70, 255, cv2.THRESH_BINARY)\n",
    "    edged = cv2.Canny(filtered, 50, 200)\n",
    "\n",
    "    # Highlighting detections\n",
    "    (cnts,_) = cv2.findContours(edged.copy(), cv2.RETR_EXTERNAL, cv2.CHAIN_APPROX_SIMPLE)\n",
    "    edged_image = image.copy()\n",
    "    cv2.drawContours(edged_image, cnts, -1, (0, 255, 0), 1);\n",
    "\n",
    "    coordinates = []\n",
    "    for cnt in cnts:\n",
    "        M = cv2.moments(cnt)\n",
    "        try:\n",
    "            cx = int(M['m10']/M['m00'])\n",
    "        except:\n",
    "            cx = np.nan\n",
    "        try:\n",
    "            cy = int(M['m01']/M['m00'])\n",
    "        except:\n",
    "            cy = np.nan\n",
    "        area = cv2.contourArea(cnt)\n",
    "        perimeter = cv2.arcLength(cnt, True)\n",
    "\n",
    "        if (12 < area) and (50 < perimeter):\n",
    "            if np.nan not in [cx, cy]:\n",
    "                x,y,w,h = cv2.boundingRect(cnt)\n",
    "                edged_image = cv2.rectangle(edged_image, (x,y), (x+w, y+h), (0,255,0), 2)\n",
    "                coordinates.append((x,y,x+w, y+h))\n",
    "\n",
    "    print(\"{} insects counted in captured image.\".format(len(coordinates)))\n",
    "    if plot_orig:\n",
    "        plt.figure(figsize=(30,24))\n",
    "        plt.imshow(edged_image)\n",
    "\n",
    "    # load the image and clone it\n",
    "    boundingBoxes = np.array(coordinates)\n",
    "\n",
    "    img = cv2.imread(imgpath)\n",
    "#     img = cv2.cvtColor(img,cv2.COLOR_BGR2RGB)\n",
    "    orig = img.copy()\n",
    "\n",
    "    # loop over the bounding boxes for each image and draw them\n",
    "    for (startX, startY, endX, endY) in boundingBoxes:\n",
    "        cv2.rectangle(orig, (startX, startY), (endX, endY), (0, 0, 255), 2)\n",
    "\n",
    "    # perform non-maximum suppression on the bounding boxes\n",
    "    pick = non_max_suppression_fast(boundingBoxes, 0.3)\n",
    "    # loop over the picked bounding boxes and draw them\n",
    "    for (startX, startY, endX, endY) in pick:\n",
    "        cv2.rectangle(img, (startX, startY), (endX, endY), (0, 255, 0), 2)\n",
    "\n",
    "    for i, c in enumerate(pick):\n",
    "        cv2.putText(img, \"{}\".format(i + 1), (c[0]-20, c[1]-10), cv2.FONT_HERSHEY_DUPLEX, 1.2, (0,0,250), 4)\n",
    "\n",
    "    cv2.putText(img, platename, (10, 4150), cv2.FONT_HERSHEY_DUPLEX, 5., (0,0,250), 5)\n",
    "    \n",
    "#     cv2.imshow('IMAGE',img)\n",
    "#     cv2.waitKey(0)\n",
    "#     cv2.destroyAllWindows()\n",
    "    cv2.imwrite(f\"{imgpath[:-4]}_overlay.png\",img)\n",
    "\n",
    "    print(f\"{len(pick)} images after non-maximal-suppression\\n\")\n",
    "    return img"
   ]
  },
  {
   "cell_type": "code",
   "execution_count": 32,
   "metadata": {},
   "outputs": [
    {
     "name": "stdout",
     "output_type": "stream",
     "text": [
      "772 insects counted in captured image.\n",
      "754 images after non-maximal-suppression\n",
      "524 insects counted in captured image.\n",
      "489 images after non-maximal-suppression\n",
      "619 insects counted in captured image.\n",
      "581 images after non-maximal-suppression\n",
      "871 insects counted in captured image.\n",
      "810 images after non-maximal-suppression\n",
      "623 insects counted in captured image.\n",
      "591 images after non-maximal-suppression\n",
      "439 insects counted in captured image.\n",
      "406 images after non-maximal-suppression\n",
      "1052 insects counted in captured image.\n",
      "996 images after non-maximal-suppression\n",
      "493 insects counted in captured image.\n",
      "465 images after non-maximal-suppression\n",
      "505 insects counted in captured image.\n",
      "480 images after non-maximal-suppression\n",
      "477 insects counted in captured image.\n",
      "451 images after non-maximal-suppression\n",
      "703 insects counted in captured image.\n",
      "656 images after non-maximal-suppression\n",
      "1101 insects counted in captured image.\n",
      "1024 images after non-maximal-suppression\n",
      "443 insects counted in captured image.\n",
      "414 images after non-maximal-suppression\n",
      "967 insects counted in captured image.\n",
      "829 images after non-maximal-suppression\n",
      "614 insects counted in captured image.\n",
      "504 images after non-maximal-suppression\n",
      "561 insects counted in captured image.\n",
      "483 images after non-maximal-suppression\n",
      "698 insects counted in captured image.\n",
      "584 images after non-maximal-suppression\n",
      "555 insects counted in captured image.\n",
      "474 images after non-maximal-suppression\n",
      "652 insects counted in captured image.\n",
      "537 images after non-maximal-suppression\n",
      "730 insects counted in captured image.\n",
      "682 images after non-maximal-suppression\n",
      "857 insects counted in captured image.\n",
      "810 images after non-maximal-suppression\n",
      "703 insects counted in captured image.\n",
      "647 images after non-maximal-suppression\n"
     ]
    }
   ],
   "source": [
    "for imgpath in imgpaths:\n",
    "    overlay_image_nms(imgpath, plot_orig=False)"
   ]
  },
  {
   "cell_type": "code",
   "execution_count": 5,
   "metadata": {},
   "outputs": [
    {
     "data": {
      "text/plain": [
       "(4174, 6297, 3)"
      ]
     },
     "execution_count": 5,
     "metadata": {},
     "output_type": "execute_result"
    }
   ],
   "source": [
    "result_image.shape"
   ]
  },
  {
   "cell_type": "code",
   "execution_count": 6,
   "metadata": {},
   "outputs": [
    {
     "data": {
      "text/plain": [
       "113"
      ]
     },
     "execution_count": 6,
     "metadata": {},
     "output_type": "execute_result"
    }
   ],
   "source": [
    "cv2.imshow('gete',result_image)\n",
    "cv2.waitKey(0)"
   ]
  },
  {
   "cell_type": "code",
   "execution_count": null,
   "metadata": {},
   "outputs": [],
   "source": []
  }
 ],
 "metadata": {
  "kernelspec": {
   "display_name": "Python 3",
   "language": "python",
   "name": "python3"
  },
  "language_info": {
   "codemirror_mode": {
    "name": "ipython",
    "version": 3
   },
   "file_extension": ".py",
   "mimetype": "text/x-python",
   "name": "python",
   "nbconvert_exporter": "python",
   "pygments_lexer": "ipython3",
   "version": "3.7.8"
  }
 },
 "nbformat": 4,
 "nbformat_minor": 4
}
